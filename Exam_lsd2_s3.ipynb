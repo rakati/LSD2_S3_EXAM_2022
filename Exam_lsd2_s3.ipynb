{
 "cells": [
  {
   "cell_type": "markdown",
   "id": "4281d4de",
   "metadata": {},
   "source": [
    "<h1 align=\"center\">Exam LSD 2 Normal<h1>"
   ]
  },
  {
   "cell_type": "markdown",
   "id": "7f1cb2db",
   "metadata": {},
   "source": [
    "## Exercise 1: C Language\n"
   ]
  },
  {
   "cell_type": "markdown",
   "id": "0c880dd0",
   "metadata": {},
   "source": [
    "In this exercise we are going to implement a simple Matrix calculator.\n",
    "\n",
    "**Example of the program:**\n",
    "```shell\n",
    "# declaring matrix A with size (3, 3)\n",
    ">> set A(3, 3) = 1 2 3\n",
    "          4 5 6\n",
    "          7 8 9\n",
    "# output\n",
    "B Stored\n",
    "\n",
    "# declaring matrix B with size (3, 3)\n",
    ">> set B(3, 3) = 9 8 7\n",
    "          6 5 4\n",
    "          3 2 1\n",
    "# output\n",
    "B Stored\n",
    ">> calc A + b\n",
    "10 10 10\n",
    "10 10 10\n",
    "10 10 10\n",
    "```\n",
    "\n",
    "**Constraints:**\n",
    "  - the matrix name will be always uppercase alphabet.\n",
    "  - The matrices entered will not be duplicated.\n",
    "  - The supported operations are add, multiply, substract, division.\n",
    "  - All the operations are element-wise.\n",
    "  \n",
    "Complete the below program template by:\n",
    "    \n",
    "1. Implement the main function with:\n",
    "    - Starter message which is the first line printed on program executed.\n",
    "        ex: `Welcome to Nouredine Matrix calculator`.\n",
    "    - Your program should print a message this string `>> ` as ready for accepting an expression.\n",
    "    - scan the instruction (Set, Calc, or exit):\n",
    "          - set: for setting a matrix.\n",
    "          - calc: calculte the result of an operator.\n",
    "          - exit: exiting the program.\n",
    "2. Create a function called `Matrix store`:\n",
    "    - this function is called when an expression entered start with `set`.\n",
    "    - the function will take tow integers row and col, return a matrix with array allocated and filled with the values entered.\n",
    "3. Create functions pointer that print the result for the operations add, multiply, substract, division."
   ]
  },
  {
   "cell_type": "code",
   "execution_count": null,
   "id": "22754291",
   "metadata": {},
   "outputs": [],
   "source": [
    "%%file calculator.c\n",
    "#include <stdio.h>\n",
    "#include <string.h>\n",
    "#include <stdlib.h>\n",
    "\n",
    "int main()\n",
    "{\n",
    "    char instruction[10];\n",
    "    void *Matrix[27];\n",
    "    int cols[27], rows[26], row, col;\n",
    "    char c, op_chars[] = \"+-*/\";\n",
    "    \n",
    "    // array of function pointers\n",
    "    void (*operations[4])(float**, float**, int, int);\n",
    "\n",
    "    // print the started message here\n",
    "    \n",
    "    // uncomment this after creating function pointers. \n",
    "    /*\n",
    "    operations[0] = my_add;\n",
    "    operations[1] = my_sub;\n",
    "    operations[2] = my_mult;\n",
    "    operations[3] = my_div;\n",
    "    */\n",
    "    while(1) {\n",
    "\n",
    "        // scan the instruction here\n",
    "        scanf(\"%s\", instruction);\n",
    "        /*\n",
    "        if ( condition instruction eq set ) {\n",
    "            scanf(\" %c(%d, %d) =\", &c, &row, &col);\n",
    "            Matrix[c - 'A'] = matrix_stor(row, col);\n",
    "            rows[c - 'A'] = row;\n",
    "            cols[c - 'A'] = col;\n",
    "        }\n",
    "        */\n",
    "        /*\n",
    "        else if (condition instruction eq calc) {\n",
    "            char c1, op, c2;\n",
    "            scanf(\" %c %c %c\", &c1, &op, &c2); // scan calc operator ex: A + B\n",
    "            \n",
    "            // call automatic the function needed\n",
    "            int e = strchr(op_chars, op) - op_chars;\n",
    "            operations[e](Matrix[c1 - 'A'] , Matrix[c2 - 'A'], rows[c2 - 'A'], cols[c2 - 'A']);\n",
    "        }\n",
    "        */\n",
    "        /*\n",
    "        else if (condition instruction eq exit)\n",
    "            break;\n",
    "        */\n",
    "    }\n",
    "    printf(\"Calculator exited\");\n",
    "    return 0;\n",
    "}"
   ]
  },
  {
   "cell_type": "code",
   "execution_count": null,
   "id": "8bcc1440",
   "metadata": {
    "scrolled": true
   },
   "outputs": [],
   "source": [
    "# Compile the program\n",
    "!gcc calculator.c -o calc_prog"
   ]
  },
  {
   "cell_type": "code",
   "execution_count": null,
   "id": "9cf206d6",
   "metadata": {},
   "outputs": [],
   "source": [
    "# Run the program\n",
    "!./calc_prog"
   ]
  },
  {
   "cell_type": "markdown",
   "id": "3229551b",
   "metadata": {},
   "source": [
    "## Exercise 2: Python\n",
    "\n",
    "#### Overview\n",
    "Monte Carlo methods, or Monte Carlo experiments, are a broad class of computational algorithms that rely on repeated random sampling to obtain numerical results. The underlying concept is to use randomness to solve problems that might be deterministic in principle.\n",
    "\n",
    "In this Exercise we are going to calculate the probability of getting six eyes at least n times, using **Monte Carlo Simulation**.\n",
    "For example, if m=5 (times of throwing a dice) and n=3, this is the same as asking for the probability that three or more out of five dice show six eyes.\n",
    "\n",
    "![\"dices\"](./data/dices.webp)\n",
    "\n",
    "The probability can be estimated by Monte Carlo simulation. We simulate the process a large number of times, N, and count how many times, M, the experiment turned out successfully, i.e., when we got at least n out of m dice with six eyes in a throw.\n",
    "1. Implement the following algorithm of Monte Carlo Simulation using python language.\n",
    "```\n",
    "Function dice_6\n",
    "    Pass In: N, ndices, nsix\n",
    "    M = 0                       # no of successful events\n",
    "    for i = 0 to n; do:             # repeat N experiments\n",
    "        six = 0                 # how many dice with six eyes?\n",
    "        for j = 0 to ndice; do:\n",
    "            r = random[1 .. 6]  # roll die no. j\n",
    "            if r == 6\n",
    "            then\n",
    "               six = six + 1\n",
    "            endif\n",
    "        enddo\n",
    "        if six >= nsix         # successful event?\n",
    "        then\n",
    "            M += 1\n",
    "        endif\n",
    "    enddo \n",
    "    p = M / N\n",
    "    Pass Out: p\n",
    "Endfunction\n",
    "```\n",
    "2. Now. let time our function with the example above. call your `dice_6` function with:\n",
    "    N = 10<sup>5</sup>, ndices = 5, nsix = 3.\n",
    "3. The example above takes a long time, try to optimize your code by vecotryzing your code using numpy library.\n",
    "    \n",
    "    * **Note**: *one of the optimization you can use, is to generate all random numbers at once, and store them into a matrix of size (N, ndices), where each row of the matrix corresponds to one Monte Carlo experiment.*\n",
    "4. Now, try to optimize `dice_6` function using one of your choice `Cython` or `Numba`.\n",
    "5. Time the different optimizations, and compare the efficiency of our implementation, run the experiments with `ndice = 6`, `nsix = 3` and for a five experiments using a large number `N`.\n",
    "6. Plot the benchmark timing average of each method into an histogram (Python naive, Python Vectorized, Cython/Numba)."
   ]
  },
  {
   "cell_type": "code",
   "execution_count": null,
   "id": "6991eccf",
   "metadata": {},
   "outputs": [],
   "source": [
    "# your code goes here"
   ]
  }
 ],
 "metadata": {
  "kernelspec": {
   "display_name": "Python 3 (ipykernel)",
   "language": "python",
   "name": "python3"
  },
  "language_info": {
   "codemirror_mode": {
    "name": "ipython",
    "version": 3
   },
   "file_extension": ".py",
   "mimetype": "text/x-python",
   "name": "python",
   "nbconvert_exporter": "python",
   "pygments_lexer": "ipython3",
   "version": "3.8.10"
  }
 },
 "nbformat": 4,
 "nbformat_minor": 5
}
